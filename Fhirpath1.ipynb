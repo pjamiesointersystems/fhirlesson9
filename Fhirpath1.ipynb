{
 "cells": [
  {
   "cell_type": "code",
   "execution_count": null,
   "metadata": {},
   "outputs": [],
   "source": [
    "!pip install fhirpathpy\n",
    "!pip install requests"
   ]
  },
  {
   "cell_type": "code",
   "execution_count": null,
   "metadata": {},
   "outputs": [],
   "source": [
    "from fhirpathpy import evaluate"
   ]
  },
  {
   "cell_type": "markdown",
   "metadata": {},
   "source": [
    "Determine if we are dealing with a Patient"
   ]
  },
  {
   "cell_type": "code",
   "execution_count": null,
   "metadata": {},
   "outputs": [],
   "source": [
    "result = evaluate(patient, \"resourceType = 'Patient'\", [])\n",
    "print(result)\n"
   ]
  },
  {
   "cell_type": "code",
   "execution_count": null,
   "metadata": {},
   "outputs": [],
   "source": [
    "result = evaluate(patient, \"Patient.name.given.empty()\", [])\n",
    "print(result)"
   ]
  },
  {
   "cell_type": "code",
   "execution_count": null,
   "metadata": {},
   "outputs": [],
   "source": [
    "result = evaluate(patient, \"name.where(use='official').given | name.where(use='official').family\", [])\n",
    "print(result)"
   ]
  },
  {
   "cell_type": "code",
   "execution_count": null,
   "metadata": {},
   "outputs": [],
   "source": [
    "result = evaluate(patient, \"(name.where(use='official').given | name.where(use='official').family).count()\", [])\n",
    "print(result)"
   ]
  },
  {
   "cell_type": "code",
   "execution_count": null,
   "metadata": {},
   "outputs": [],
   "source": [
    "result = evaluate(patient, \"name.where(use='official').union(name.where(use='maiden'))\", [])\n",
    "print(result)"
   ]
  },
  {
   "cell_type": "code",
   "execution_count": null,
   "metadata": {},
   "outputs": [],
   "source": [
    "result = evaluate(patient, \"(name.where(use='maiden').exists()\", [])\n",
    "print(result)"
   ]
  },
  {
   "cell_type": "code",
   "execution_count": null,
   "metadata": {},
   "outputs": [],
   "source": [
    "result = evaluate(patient, \"(name.given.where($this > 'Pa')\", [])\n",
    "print(result)"
   ]
  },
  {
   "cell_type": "code",
   "execution_count": null,
   "metadata": {},
   "outputs": [],
   "source": [
    "# Evaluating FHIRPath\n",
    "result = evaluate(patient, \"Patient.name.where(use='official').given.first()\", [])"
   ]
  },
  {
   "cell_type": "code",
   "execution_count": null,
   "metadata": {},
   "outputs": [],
   "source": [
    "print(result)"
   ]
  },
  {
   "cell_type": "code",
   "execution_count": null,
   "metadata": {},
   "outputs": [],
   "source": [
    "result = evaluate(patient, \"Patient.name.where(use = 'official').family\", [])\n",
    "print(result)"
   ]
  },
  {
   "cell_type": "code",
   "execution_count": null,
   "metadata": {},
   "outputs": [],
   "source": [
    "result = evaluate(patient, \"Patient.name.given\", []) \n",
    "print(result)"
   ]
  },
  {
   "cell_type": "code",
   "execution_count": null,
   "metadata": {},
   "outputs": [],
   "source": [
    "result = evaluate(patient, \"name.given\", []) \n",
    "print(result)"
   ]
  },
  {
   "cell_type": "markdown",
   "metadata": {},
   "source": [
    "Check for the Existence of a Birth Date"
   ]
  },
  {
   "cell_type": "code",
   "execution_count": null,
   "metadata": {},
   "outputs": [],
   "source": [
    "result = evaluate(patient, \"Patient.birthDate.exists()\", []) \n",
    "print(result)"
   ]
  },
  {
   "cell_type": "code",
   "execution_count": null,
   "metadata": {},
   "outputs": [],
   "source": [
    "result = evaluate(patient, \"Patient.name.period.exists())\", []) \n",
    "print(result)"
   ]
  },
  {
   "cell_type": "code",
   "execution_count": null,
   "metadata": {},
   "outputs": [],
   "source": [
    "result = evaluate(patient, \"Patient.name.where(use = 'maiden').given.last()\", [])\n",
    "print(result)"
   ]
  },
  {
   "cell_type": "code",
   "execution_count": null,
   "metadata": {},
   "outputs": [],
   "source": [
    "result = evaluate(patient, \"Patient.name.where(use = 'official').first().given.join(' ') + ' ' + Patient.name.where(use = 'official').first().family\", []) \n",
    "print(result)"
   ]
  },
  {
   "cell_type": "code",
   "execution_count": null,
   "metadata": {},
   "outputs": [],
   "source": [
    "result = evaluate(patient, \"Patient.name.given.distinct()\", []) \n",
    "print(result)"
   ]
  },
  {
   "cell_type": "code",
   "execution_count": null,
   "metadata": {},
   "outputs": [],
   "source": [
    "result = evaluate(patient, \"Patient.name.where(use = 'official').first().given.last()\", [])\n",
    "print(result)"
   ]
  },
  {
   "cell_type": "code",
   "execution_count": null,
   "metadata": {},
   "outputs": [],
   "source": [
    "obs = {\n",
    "  \"resourceType\": \"Observation\",\n",
    "  \"id\": \"example\",\n",
    "  \"status\": \"final\",\n",
    "  \"category\": [\n",
    "    {\n",
    "      \"coding\": [\n",
    "        {\n",
    "          \"system\": \"http://terminology.hl7.org/CodeSystem/observation-category\",\n",
    "          \"code\": \"vital-signs\",\n",
    "          \"display\": \"Vital Signs\"\n",
    "        }\n",
    "      ]\n",
    "    }\n",
    "  ],\n",
    "  \"code\": {\n",
    "    \"coding\": [\n",
    "      {\n",
    "        \"system\": \"http://loinc.org\",\n",
    "        \"code\": \"85354-9\",\n",
    "        \"display\": \"Blood pressure panel with all children optional\"\n",
    "      }\n",
    "    ],\n",
    "    \"text\": \"Blood pressure systolic & diastolic\"\n",
    "  },\n",
    "  \"subject\": {\n",
    "    \"reference\": \"Patient/example\",\n",
    "    \"display\": \"Peter Chalmers\"\n",
    "  },\n",
    "  \"effectiveDateTime\": \"2020-03-15T09:30:10+01:00\",\n",
    "  \"issued\": \"2020-03-15T09:45:10+01:00\",\n",
    "  \"component\": [\n",
    "    {\n",
    "      \"code\": {\n",
    "        \"coding\": [\n",
    "          {\n",
    "            \"system\": \"http://loinc.org\",\n",
    "            \"code\": \"8480-6\",\n",
    "            \"display\": \"Systolic blood pressure\"\n",
    "          }\n",
    "        ]\n",
    "      },\n",
    "      \"valueQuantity\": {\n",
    "        \"value\": 120,\n",
    "        \"unit\": \"mmHg\",\n",
    "        \"system\": \"http://unitsofmeasure.org\",\n",
    "        \"code\": \"mm[Hg]\"\n",
    "      }\n",
    "    },\n",
    "    {\n",
    "      \"code\": {\n",
    "        \"coding\": [\n",
    "          {\n",
    "            \"system\": \"http://loinc.org\",\n",
    "            \"code\": \"8462-4\",\n",
    "            \"display\": \"Diastolic blood pressure\"\n",
    "          }\n",
    "        ]\n",
    "      },\n",
    "      \"valueQuantity\": {\n",
    "        \"value\": 80,\n",
    "        \"unit\": \"mmHg\",\n",
    "        \"system\": \"http://unitsofmeasure.org\",\n",
    "        \"code\": \"mm[Hg]\"\n",
    "      }\n",
    "    }\n",
    "  ]\n",
    "}\n"
   ]
  },
  {
   "cell_type": "code",
   "execution_count": null,
   "metadata": {},
   "outputs": [],
   "source": [
    "result = evaluate(obs, \"component.valueQuantity.value\", [])\n",
    "print(result)"
   ]
  },
  {
   "cell_type": "code",
   "execution_count": null,
   "metadata": {},
   "outputs": [],
   "source": [
    "result = evaluate(obs, \"Observation.status\", [])\n",
    "print(result)"
   ]
  },
  {
   "cell_type": "code",
   "execution_count": null,
   "metadata": {},
   "outputs": [],
   "source": [
    "result = evaluate(obs, \"Observation.effectiveDateTime\", [])\n",
    "print(result)"
   ]
  },
  {
   "cell_type": "code",
   "execution_count": null,
   "metadata": {},
   "outputs": [],
   "source": [
    "result = evaluate(obs, \"Observation.code.text\", [])\n",
    "print(result)"
   ]
  },
  {
   "cell_type": "code",
   "execution_count": null,
   "metadata": {},
   "outputs": [],
   "source": [
    "result = evaluate(obs, \"Observation.component.where(code.coding.code = '8480-6').valueQuantity.value\", [])\n",
    "print(result)"
   ]
  },
  {
   "cell_type": "code",
   "execution_count": null,
   "metadata": {},
   "outputs": [],
   "source": [
    "result = evaluate(obs, \"Observation.component.where(code.coding.code = '8480-6').code.coding.display\", [])\n",
    "print(result)"
   ]
  },
  {
   "cell_type": "code",
   "execution_count": null,
   "metadata": {},
   "outputs": [],
   "source": [
    "result = evaluate(obs, \"Observation.subject.display\", [])\n",
    "print(result)"
   ]
  },
  {
   "cell_type": "code",
   "execution_count": null,
   "metadata": {},
   "outputs": [],
   "source": [
    "result = evaluate(obs, \"Observation.issued\", [])\n",
    "print(result)"
   ]
  },
  {
   "cell_type": "code",
   "execution_count": null,
   "metadata": {},
   "outputs": [],
   "source": [
    "result = evaluate(obs, \"Observation.category.coding.code\", [])\n",
    "print(result)"
   ]
  },
  {
   "cell_type": "code",
   "execution_count": null,
   "metadata": {},
   "outputs": [],
   "source": [
    "result = evaluate(obs, \"Observation.component.where(code.coding.code = '8480-6').valueQuantity.value.toString() + '/' + Observation.component.where(code.coding.code = '8462-4').valueQuantity.value.toString()\", [])\n",
    "print(result)"
   ]
  },
  {
   "cell_type": "code",
   "execution_count": null,
   "metadata": {},
   "outputs": [],
   "source": [
    "bundle = {\n",
    "  \"resourceType\": \"Bundle\",\n",
    "  \"id\": \"bundle-example\",\n",
    "  \"type\": \"collection\",\n",
    "  \"entry\": [\n",
    "    {\n",
    "      \"resource\": {\n",
    "        \"resourceType\": \"Observation\",\n",
    "        \"id\": \"obs1\",\n",
    "        \"status\": \"final\",\n",
    "        \"code\": {\n",
    "          \"coding\": [\n",
    "            {\n",
    "              \"system\": \"http://loinc.org\",\n",
    "              \"code\": \"85354-9\",\n",
    "              \"display\": \"Blood pressure panel\"\n",
    "            }\n",
    "          ],\n",
    "          \"text\": \"Blood Pressure\"\n",
    "        },\n",
    "        \"subject\": {\n",
    "          \"reference\": \"Patient/123\"\n",
    "        },\n",
    "        \"effectiveDateTime\": \"2025-02-25T10:00:00+00:00\",\n",
    "        \"component\": [\n",
    "          {\n",
    "            \"code\": {\n",
    "              \"coding\": [\n",
    "                {\n",
    "                  \"system\": \"http://loinc.org\",\n",
    "                  \"code\": \"8480-6\",\n",
    "                  \"display\": \"Systolic blood pressure\"\n",
    "                }\n",
    "              ]\n",
    "            },\n",
    "            \"valueQuantity\": {\n",
    "              \"value\": 120,\n",
    "              \"unit\": \"mmHg\"\n",
    "            }\n",
    "          },\n",
    "          {\n",
    "            \"code\": {\n",
    "              \"coding\": [\n",
    "                {\n",
    "                  \"system\": \"http://loinc.org\",\n",
    "                  \"code\": \"8462-4\",\n",
    "                  \"display\": \"Diastolic blood pressure\"\n",
    "                }\n",
    "              ]\n",
    "            },\n",
    "            \"valueQuantity\": {\n",
    "              \"value\": 80,\n",
    "              \"unit\": \"mmHg\"\n",
    "            }\n",
    "          }\n",
    "        ]\n",
    "      }\n",
    "    },\n",
    "    {\n",
    "      \"resource\": {\n",
    "        \"resourceType\": \"Observation\",\n",
    "        \"id\": \"obs2\",\n",
    "        \"status\": \"final\",\n",
    "        \"code\": {\n",
    "          \"coding\": [\n",
    "            {\n",
    "              \"system\": \"http://loinc.org\",\n",
    "              \"code\": \"8867-4\",\n",
    "              \"display\": \"Heart rate\"\n",
    "            }\n",
    "          ],\n",
    "          \"text\": \"Heart Rate\"\n",
    "        },\n",
    "        \"subject\": {\n",
    "          \"reference\": \"Patient/123\"\n",
    "        },\n",
    "        \"effectiveDateTime\": \"2025-02-25T10:05:00+00:00\",\n",
    "        \"valueQuantity\": {\n",
    "          \"value\": 72,\n",
    "          \"unit\": \"beats/minute\"\n",
    "        }\n",
    "      }\n",
    "    }\n",
    "  ]\n",
    "}\n"
   ]
  },
  {
   "cell_type": "markdown",
   "metadata": {},
   "source": [
    "Extract the status of all observations"
   ]
  },
  {
   "cell_type": "code",
   "execution_count": null,
   "metadata": {},
   "outputs": [],
   "source": [
    "result = evaluate(bundle, \"Bundle.entry.resource.status\", [])\n",
    "print(result)"
   ]
  },
  {
   "cell_type": "code",
   "execution_count": null,
   "metadata": {},
   "outputs": [],
   "source": [
    "result = evaluate(bundle, \"entry.resource.status\", [])\n",
    "print(result)"
   ]
  },
  {
   "cell_type": "markdown",
   "metadata": {},
   "source": [
    "Get the IDs of observations with a code text equal to 'Blood Pressure'"
   ]
  },
  {
   "cell_type": "code",
   "execution_count": null,
   "metadata": {},
   "outputs": [],
   "source": [
    "result = evaluate(bundle, \"Bundle.entry.resource.where(code.text = 'Blood Pressure').id\", [])\n",
    "print(result)"
   ]
  },
  {
   "cell_type": "markdown",
   "metadata": {},
   "source": [
    "Retrieve the systolic blood pressure value (from the component with code '8480-6')"
   ]
  },
  {
   "cell_type": "code",
   "execution_count": null,
   "metadata": {},
   "outputs": [],
   "source": [
    "result = evaluate(bundle, \"Bundle.entry.resource.where(component.exists()).component.where(code.coding.code = '8480-6').valueQuantity.value\", [])\n",
    "print(result)"
   ]
  },
  {
   "cell_type": "markdown",
   "metadata": {},
   "source": [
    "Retrieve the diastolic blood pressure value (from the component with code '8462-4')"
   ]
  },
  {
   "cell_type": "code",
   "execution_count": null,
   "metadata": {},
   "outputs": [],
   "source": [
    "result = evaluate(bundle, \"Bundle.entry.resource.where(component.exists()).component.where(code.coding.code = '8462-4').valueQuantity.value\", [])\n",
    "print(result)"
   ]
  },
  {
   "cell_type": "code",
   "execution_count": null,
   "metadata": {},
   "outputs": [],
   "source": [
    "result = evaluate(bundle, \"Bundle.entry.resource.ofType(Observation)\", [])\n",
    "print(result)"
   ]
  },
  {
   "cell_type": "markdown",
   "metadata": {},
   "source": [
    "Extract the heart rate value (observation with code '8867-4')"
   ]
  },
  {
   "cell_type": "code",
   "execution_count": null,
   "metadata": {},
   "outputs": [],
   "source": [
    "result = evaluate(bundle, \"Bundle.entry.resource.where(code.coding.code = '8867-4').valueQuantity.value\", [])\n",
    "print(result)"
   ]
  },
  {
   "cell_type": "code",
   "execution_count": null,
   "metadata": {},
   "outputs": [],
   "source": [
    "result = evaluate(bundle, \"entry.resource.where(resourceType = 'Observation').where(component.valueQuantity.value.exists($this > 100))\", [])\n",
    "print(result)"
   ]
  },
  {
   "cell_type": "markdown",
   "metadata": {},
   "source": [
    "Must select the component we want"
   ]
  },
  {
   "cell_type": "code",
   "execution_count": null,
   "metadata": {},
   "outputs": [],
   "source": [
    "result = evaluate(bundle, \"entry.resource.where(resourceType = 'Observation').where(component.valueQuantity.value.exists($this > 100)).select(component.where(valueQuantity.value > 100))\", [])\n",
    "print(result)"
   ]
  },
  {
   "cell_type": "code",
   "execution_count": null,
   "metadata": {},
   "outputs": [],
   "source": [
    "result = evaluate(bundle, \"entry.resource.component.valueQuantity.value.where($this > 100)\", [])\n",
    "print(result)"
   ]
  },
  {
   "cell_type": "markdown",
   "metadata": {},
   "source": [
    "Are all the component blood pressure values greater than or equal to 80?"
   ]
  },
  {
   "cell_type": "code",
   "execution_count": null,
   "metadata": {},
   "outputs": [],
   "source": [
    "result = evaluate(bundle, \"entry.resource.where(resourceType = 'Observation').where(component.exists() and (component.valueQuantity.value.all(($this >= 80))\", [])\n",
    "print(result)"
   ]
  },
  {
   "cell_type": "markdown",
   "metadata": {},
   "source": [
    "Get all effective date and time values from the observations"
   ]
  },
  {
   "cell_type": "code",
   "execution_count": null,
   "metadata": {},
   "outputs": [],
   "source": [
    "result = evaluate(bundle, \"Bundle.entry.resource.effectiveDateTime\", [])\n",
    "print(result)"
   ]
  },
  {
   "cell_type": "markdown",
   "metadata": {},
   "source": [
    "Return the subject reference (patient identifier) for all observations"
   ]
  },
  {
   "cell_type": "code",
   "execution_count": null,
   "metadata": {},
   "outputs": [],
   "source": [
    "result = evaluate(bundle, \"Bundle.entry.resource.subject.reference.distinct()\", [])\n",
    "print(result)"
   ]
  },
  {
   "cell_type": "markdown",
   "metadata": {},
   "source": [
    "Retrieve the unit for the systolic measurement"
   ]
  },
  {
   "cell_type": "code",
   "execution_count": null,
   "metadata": {},
   "outputs": [],
   "source": [
    "result = evaluate(bundle, \"Bundle.entry.resource.where(component.exists()).component.where(code.coding.code = '8480-6').valueQuantity.unit\", [])\n",
    "print(result)"
   ]
  },
  {
   "cell_type": "markdown",
   "metadata": {},
   "source": [
    "Count the number of Observation resources in the bundle"
   ]
  },
  {
   "cell_type": "code",
   "execution_count": null,
   "metadata": {},
   "outputs": [],
   "source": [
    "result = evaluate(bundle, \"Bundle.entry.resource.count()\", [])\n",
    "print(result)"
   ]
  },
  {
   "cell_type": "markdown",
   "metadata": {},
   "source": [
    "Concatenate the first observation’s ID with its effective date/time "
   ]
  },
  {
   "cell_type": "code",
   "execution_count": null,
   "metadata": {},
   "outputs": [],
   "source": [
    "result = evaluate(bundle, \"Bundle.entry.resource.id.first() + ' ' + entry.resource.effectiveDateTime.first()\", [])\n",
    "print(result)"
   ]
  },
  {
   "cell_type": "markdown",
   "metadata": {},
   "source": [
    "# Make the GET request to retrieve the bundle of Patients"
   ]
  },
  {
   "cell_type": "code",
   "execution_count": null,
   "metadata": {},
   "outputs": [],
   "source": [
    "import requests\n",
    "from requests.auth import HTTPBasicAuth"
   ]
  },
  {
   "cell_type": "markdown",
   "metadata": {},
   "source": [
    "# Define the URL and headers for the GET request"
   ]
  },
  {
   "cell_type": "code",
   "execution_count": null,
   "metadata": {},
   "outputs": [],
   "source": [
    "url = \"http://127.0.0.1:8080/csp/healthshare/demo/fhir/r4/Patient\"\n",
    "headers = {\n",
    "    \"Accept\": \"*/*\",\n",
    "    \"content-type\": \"application/fhir+json\",\n",
    "    \"Accept-Encoding\": \"gzip, deflate, br\",\n",
    "    \"Prefer\": \"return=representation\"\n",
    "}\n"
   ]
  },
  {
   "cell_type": "code",
   "execution_count": null,
   "metadata": {},
   "outputs": [],
   "source": [
    "response = requests.get(url, headers=headers, auth=HTTPBasicAuth('_System', 'ISCDEMO'))\n",
    "\n",
    "# Check if the request was successful\n",
    "if response.status_code == 200:\n",
    "    bundle = response.json()\n",
    "    print(\"Bundle retrieved successfully!\")\n",
    "    print(f\"Total Patients: {len(bundle.get('entry', []))}\")\n",
    "    \n",
    "    # You can now use FHIRPath or further analyze the bundle as needed.\n",
    "    # For example, print out the first patient's ID:\n",
    "    if bundle.get('entry'):\n",
    "        first_patient = bundle['entry'][0]['resource']\n",
    "        print(\"First Patient ID:\", first_patient.get('id'))\n",
    "else:\n",
    "    print(\"Error retrieving bundle:\", response.status_code)\n",
    "    print(response.text)"
   ]
  },
  {
   "cell_type": "markdown",
   "metadata": {},
   "source": [
    "Let's find the id of each patient resource in the bundle we just obtained."
   ]
  },
  {
   "cell_type": "code",
   "execution_count": null,
   "metadata": {},
   "outputs": [],
   "source": [
    "result = evaluate(bundle, \"Bundle.entry.resource.id\", [])\n",
    "print(result)\n"
   ]
  },
  {
   "cell_type": "markdown",
   "metadata": {},
   "source": [
    "Find all the female patients in the FHIR repository"
   ]
  },
  {
   "cell_type": "code",
   "execution_count": null,
   "metadata": {},
   "outputs": [],
   "source": [
    "result = evaluate(bundle, \"Bundle.entry.resource.where(gender = 'female').count()\", [])\n",
    "print(result)"
   ]
  },
  {
   "cell_type": "code",
   "execution_count": null,
   "metadata": {},
   "outputs": [],
   "source": [
    "url = \"http://127.0.0.1:8080/csp/healthshare/demo/fhir/r4/Condition?subject=Patient/2\"\n",
    "headers = {\n",
    "    \"Accept\": \"*/*\",\n",
    "    \"content-type\": \"application/fhir+json\",\n",
    "    \"Accept-Encoding\": \"gzip, deflate, br\",\n",
    "    \"Prefer\": \"return=representation\"\n",
    "}"
   ]
  },
  {
   "cell_type": "code",
   "execution_count": null,
   "metadata": {},
   "outputs": [],
   "source": [
    "response = requests.get(url, headers=headers, auth=HTTPBasicAuth('_System', 'ISCDEMO'))\n",
    "\n",
    "# Check if the request was successful\n",
    "if response.status_code == 200:\n",
    "    bundle = response.json()\n",
    "    print(\"Bundle retrieved successfully!\")\n",
    "    # Define the FHIRPath expression:\n",
    "    # This expression filters Bundle entries for Condition resources where at least one coding in clinicalStatus has code 'active'\n",
    "    expression1 = (\n",
    "        \"Bundle.entry.where(resource.resourceType = 'Condition' and \"\n",
    "        \"resource.clinicalStatus.coding.where(code = 'active').exists()).count()\"\n",
    "    )\n",
    "    \n",
    "    expression2 = (\n",
    "        \"Bundle.entry.where(resource.resourceType = 'Condition' and \"\n",
    "        \"resource.clinicalStatus.coding.where(code = 'resolved').exists()).count()\"\n",
    "    )\n",
    "    \n",
    "    # Evaluate the FHIRPath expression on the bundle\n",
    "    active_count = evaluate(bundle, expression1, [])\n",
    "    resolved_count = evaluate(bundle, expression2, [])\n",
    "    print(f\"Patient two has {active_count} active conditions and {resolved_count} resolved conditions.\")\n",
    "else:\n",
    "    print(\"Failed to retrieve bundle\")"
   ]
  },
  {
   "cell_type": "markdown",
   "metadata": {},
   "source": [
    "Problems with Types"
   ]
  },
  {
   "cell_type": "code",
   "execution_count": null,
   "metadata": {},
   "outputs": [],
   "source": [
    "ptdec = {\n",
    "  \"resourceType\": \"Patient\",\n",
    "  \"id\": \"fake-patient-example\",\n",
    "  \"name\": [\n",
    "    {\n",
    "      \"use\": \"official\",\n",
    "      \"family\": \"Doe\",\n",
    "      \"given\": [\"Jane\", \"Elizabeth\"]\n",
    "    }\n",
    "  ],\n",
    "  \"address\": [\n",
    "    {\n",
    "      \"use\": \"home\",\n",
    "      \"line\": [\"1234 Main Street\"],\n",
    "      \"city\": \"Exampleville\",\n",
    "      \"state\": \"CA\",\n",
    "      \"postalCode\": \"90001\",\n",
    "      \"country\": \"USA\"\n",
    "    }\n",
    "  ],\n",
    "  \"deceasedBoolean\" : \"true\",\n",
    "  \"birthDate\": \"1980-01-15\"\n",
    "}"
   ]
  },
  {
   "cell_type": "code",
   "execution_count": null,
   "metadata": {},
   "outputs": [],
   "source": [
    "result = evaluate(ptdec, \"deceased.exists().select($this.type())\", [])\n",
    "print(result)"
   ]
  },
  {
   "cell_type": "code",
   "execution_count": null,
   "metadata": {},
   "outputs": [],
   "source": [
    "result = evaluate(ptdec, \"deceasedBoolean.exists()\", [])\n",
    "print(result)"
   ]
  },
  {
   "cell_type": "code",
   "execution_count": null,
   "metadata": {},
   "outputs": [],
   "source": [
    "result = evaluate(ptdec, \"deceasedDateTime.exists()\", [])\n",
    "print(result)"
   ]
  }
 ],
 "metadata": {
  "kernelspec": {
   "display_name": "3.12.7",
   "language": "python",
   "name": "python3"
  },
  "language_info": {
   "codemirror_mode": {
    "name": "ipython",
    "version": 3
   },
   "file_extension": ".py",
   "mimetype": "text/x-python",
   "name": "python",
   "nbconvert_exporter": "python",
   "pygments_lexer": "ipython3",
   "version": "3.12.7"
  }
 },
 "nbformat": 4,
 "nbformat_minor": 2
}
