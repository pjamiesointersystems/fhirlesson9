{
 "cells": [
  {
   "cell_type": "markdown",
   "metadata": {},
   "source": [
    "Install Prequisites (fhirpathpy and requests, the ! indicates we are going out to the shell)"
   ]
  },
  {
   "cell_type": "code",
   "execution_count": 28,
   "metadata": {},
   "outputs": [
    {
     "name": "stdout",
     "output_type": "stream",
     "text": [
      "Requirement already satisfied: fhirpathpy in /opt/homebrew/anaconda3/lib/python3.12/site-packages (2.0.0)\n",
      "Requirement already satisfied: antlr4-python3-runtime~=4.10 in /opt/homebrew/anaconda3/lib/python3.12/site-packages (from fhirpathpy) (4.13.2)\n",
      "Requirement already satisfied: python-dateutil~=2.8 in /opt/homebrew/anaconda3/lib/python3.12/site-packages (from fhirpathpy) (2.9.0.post0)\n",
      "Requirement already satisfied: six>=1.5 in /opt/homebrew/anaconda3/lib/python3.12/site-packages (from python-dateutil~=2.8->fhirpathpy) (1.16.0)\n",
      "Requirement already satisfied: requests in /opt/homebrew/anaconda3/lib/python3.12/site-packages (2.32.2)\n",
      "Requirement already satisfied: charset-normalizer<4,>=2 in /opt/homebrew/anaconda3/lib/python3.12/site-packages (from requests) (2.0.4)\n",
      "Requirement already satisfied: idna<4,>=2.5 in /opt/homebrew/anaconda3/lib/python3.12/site-packages (from requests) (3.7)\n",
      "Requirement already satisfied: urllib3<3,>=1.21.1 in /opt/homebrew/anaconda3/lib/python3.12/site-packages (from requests) (2.2.2)\n",
      "Requirement already satisfied: certifi>=2017.4.17 in /opt/homebrew/anaconda3/lib/python3.12/site-packages (from requests) (2024.8.30)\n"
     ]
    }
   ],
   "source": [
    "!pip install fhirpathpy\n",
    "!pip install requests"
   ]
  },
  {
   "cell_type": "markdown",
   "metadata": {},
   "source": [
    "Get the Evaluation function from the fhirpathpy library"
   ]
  },
  {
   "cell_type": "code",
   "execution_count": 79,
   "metadata": {},
   "outputs": [],
   "source": [
    "from fhirpathpy import evaluate"
   ]
  },
  {
   "cell_type": "markdown",
   "metadata": {},
   "source": [
    "Get requests and requests.auth to make Rest Request to our FHIR server"
   ]
  },
  {
   "cell_type": "code",
   "execution_count": 30,
   "metadata": {},
   "outputs": [],
   "source": [
    "import requests\n",
    "from requests.auth import HTTPBasicAuth"
   ]
  },
  {
   "cell_type": "markdown",
   "metadata": {},
   "source": [
    "Set up the headers for all subsequent server requests"
   ]
  },
  {
   "cell_type": "code",
   "execution_count": 31,
   "metadata": {},
   "outputs": [],
   "source": [
    "headers = {\n",
    "    \"Accept\": \"*/*\",\n",
    "    \"content-type\": \"application/fhir+json\",\n",
    "    \"Accept-Encoding\": \"gzip, deflate, br\",\n",
    "    \"Prefer\": \"return=representation\"\n",
    "}"
   ]
  },
  {
   "cell_type": "markdown",
   "metadata": {},
   "source": [
    "Define the FHIR Search URL that found all the values of HgA1c on your patient"
   ]
  },
  {
   "cell_type": "code",
   "execution_count": null,
   "metadata": {},
   "outputs": [],
   "source": [
    "url=\"http://127.0.0.1:8080/csp/healthshare/demo/fhir/r4/Observation?subject=Patient/12251&code=http://loinc.org|4548-4&value-quantity=ge6.0\""
   ]
  },
  {
   "cell_type": "markdown",
   "metadata": {},
   "source": [
    "Now execute your FHIR Search REST Requests from Juypter Notebooks"
   ]
  },
  {
   "cell_type": "code",
   "execution_count": 7,
   "metadata": {},
   "outputs": [],
   "source": [
    "response = requests.get(url, headers=headers, auth=HTTPBasicAuth('_System', 'ISCDEMO'))"
   ]
  },
  {
   "cell_type": "code",
   "execution_count": 8,
   "metadata": {},
   "outputs": [
    {
     "name": "stdout",
     "output_type": "stream",
     "text": [
      "Bundle retrieved successfully!\n"
     ]
    }
   ],
   "source": [
    "# Check if the request was successful\n",
    "if response.status_code == 200:\n",
    "    bundle = response.json()\n",
    "    print(\"Bundle retrieved successfully!\")\n",
    "else:\n",
    "    print(\"Failed to retrieve bundle\")"
   ]
  },
  {
   "cell_type": "markdown",
   "metadata": {},
   "source": [
    "Now write your FHIRPath expression to extract all the Hemoglobin A1c as an array, remember the format for getting FHIRPath results is \n",
    "result = evaluate(bundle, expression, []) \n",
    "Your job is to fill in the expression."
   ]
  },
  {
   "cell_type": "code",
   "execution_count": 62,
   "metadata": {},
   "outputs": [
    {
     "name": "stdout",
     "output_type": "stream",
     "text": [
      "This is result1:\n",
      "[Decimal('92.67'), Decimal('93.86'), Decimal('93.36'), Decimal('92.09'), Decimal('94.14'), Decimal('92.46'), Decimal('92.94'), Decimal('93.23'), Decimal('91.84'), Decimal('93.69'), Decimal('93.09'), Decimal('92.52'), Decimal('94.08'), Decimal('93.21')]\n",
      "[Decimal('92.67'), Decimal('93.86'), Decimal('93.36'), Decimal('92.09'), Decimal('94.14'), Decimal('92.46'), Decimal('92.94'), Decimal('93.23'), Decimal('91.84'), Decimal('93.69'), Decimal('93.09'), Decimal('92.52'), Decimal('94.08'), Decimal('93.21')]\n"
     ]
    }
   ],
   "source": [
    "expression = \"entry.resource.ofType(Observation).valueQuantity.value\"\n",
    "result1 = evaluate(bundle, expression, [])\n",
    "print(\"This is result1:\")\n",
    "print(result1)\n",
    "hba1c_values = [entry[\"resource\"][\"valueQuantity\"][\"value\"] for entry in bundle[\"entry\"]]\n",
    "# Print the extracted values\n",
    "print(hba1c_values)\n",
    "\n"
   ]
  },
  {
   "cell_type": "markdown",
   "metadata": {},
   "source": [
    "Sort the array using Python"
   ]
  },
  {
   "cell_type": "code",
   "execution_count": 67,
   "metadata": {},
   "outputs": [
    {
     "name": "stdout",
     "output_type": "stream",
     "text": [
      "['91.84', '92.09', '92.46', '92.52', '92.67', '92.94', '93.09', '93.21', '93.23', '93.36', '93.69', '93.86', '94.08', '94.14']\n"
     ]
    }
   ],
   "source": [
    "hba1c_values = [str(d) for d in hba1c_values]\n",
    "hba1c_sorted = sorted(set(hba1c_values))  # set() ensures unique values, sorted() sorts them\n",
    "\n",
    "# Step 3: Print results\n",
    "print(hba1c_sorted)"
   ]
  },
  {
   "cell_type": "markdown",
   "metadata": {},
   "source": [
    "Use fhirpath to extract all the FHIR ids for patients with Pre-Diabetes."
   ]
  },
  {
   "cell_type": "code",
   "execution_count": 19,
   "metadata": {},
   "outputs": [],
   "source": [
    "url = \"http://127.0.0.1:8080/csp/healthshare/demo/fhir/r4/Patient?_has:Condition:patient:code=http://snomed.info/sct|15777000\""
   ]
  },
  {
   "cell_type": "code",
   "execution_count": 86,
   "metadata": {},
   "outputs": [],
   "source": [
    "response = requests.get(url, headers=headers, auth=HTTPBasicAuth('_System', 'ISCDEMO'))"
   ]
  },
  {
   "cell_type": "code",
   "execution_count": 87,
   "metadata": {},
   "outputs": [
    {
     "name": "stdout",
     "output_type": "stream",
     "text": [
      "Bundle retrieved successfully!\n"
     ]
    }
   ],
   "source": [
    "# Check if the request was successful\n",
    "if response.status_code == 200:\n",
    "    bundle = response.json()\n",
    "    print(\"Bundle retrieved successfully!\")\n",
    "else:\n",
    "    print(\"Failed to retrieve bundle\")"
   ]
  },
  {
   "cell_type": "markdown",
   "metadata": {},
   "source": [
    "Get all the Patient ids (FHIR Ids) of those with Pre-Diabetes"
   ]
  },
  {
   "cell_type": "code",
   "execution_count": 94,
   "metadata": {},
   "outputs": [
    {
     "name": "stdout",
     "output_type": "stream",
     "text": [
      "{'resourceType': 'Bundle', 'id': 'dc1036c0-036b-11f0-9076-0242c0a8cc22', 'type': 'searchset', 'timestamp': '2025-03-17T20:10:23Z', 'total': 14, 'link': [{'relation': 'self', 'url': 'http://127.0.0.1:8080/csp/healthshare/demo/fhir/r4/Observation?code=http%3A%2F%2Floinc.org%7C29463-7&subject=Patient%2F70255'}], 'entry': [{'fullUrl': 'http://127.0.0.1:8080/csp/healthshare/demo/fhir/r4/Observation/70261', 'resource': {'resourceType': 'Observation', 'status': 'final', 'category': [{'coding': [{'system': 'http://terminology.hl7.org/CodeSystem/observation-category', 'code': 'vital-signs', 'display': 'Vital Signs'}]}], 'code': {'coding': [{'system': 'http://loinc.org', 'code': '29463-7', 'display': 'Body Weight'}], 'text': 'Body Weight'}, 'subject': {'reference': 'Patient/70255'}, 'effectiveDateTime': '2025-03-01T08:00:00Z', 'valueQuantity': {'value': 92.67, 'unit': 'kg', 'system': 'http://unitsofmeasure.org', 'code': 'kg'}, 'device': {'reference': 'Device/66478'}, 'id': '70261', 'meta': {'lastUpdated': '2025-03-15T18:24:50Z', 'versionId': '1'}}, 'search': {'mode': 'match'}}, {'fullUrl': 'http://127.0.0.1:8080/csp/healthshare/demo/fhir/r4/Observation/70262', 'resource': {'resourceType': 'Observation', 'status': 'final', 'category': [{'coding': [{'system': 'http://terminology.hl7.org/CodeSystem/observation-category', 'code': 'vital-signs', 'display': 'Vital Signs'}]}], 'code': {'coding': [{'system': 'http://loinc.org', 'code': '29463-7', 'display': 'Body Weight'}], 'text': 'Body Weight'}, 'subject': {'reference': 'Patient/70255'}, 'effectiveDateTime': '2025-03-02T08:00:00Z', 'valueQuantity': {'value': 93.86, 'unit': 'kg', 'system': 'http://unitsofmeasure.org', 'code': 'kg'}, 'device': {'reference': 'Device/66478'}, 'id': '70262', 'meta': {'lastUpdated': '2025-03-15T18:24:50Z', 'versionId': '1'}}, 'search': {'mode': 'match'}}, {'fullUrl': 'http://127.0.0.1:8080/csp/healthshare/demo/fhir/r4/Observation/70263', 'resource': {'resourceType': 'Observation', 'status': 'final', 'category': [{'coding': [{'system': 'http://terminology.hl7.org/CodeSystem/observation-category', 'code': 'vital-signs', 'display': 'Vital Signs'}]}], 'code': {'coding': [{'system': 'http://loinc.org', 'code': '29463-7', 'display': 'Body Weight'}], 'text': 'Body Weight'}, 'subject': {'reference': 'Patient/70255'}, 'effectiveDateTime': '2025-03-03T08:00:00Z', 'valueQuantity': {'value': 93.36, 'unit': 'kg', 'system': 'http://unitsofmeasure.org', 'code': 'kg'}, 'device': {'reference': 'Device/66478'}, 'id': '70263', 'meta': {'lastUpdated': '2025-03-15T18:24:50Z', 'versionId': '1'}}, 'search': {'mode': 'match'}}, {'fullUrl': 'http://127.0.0.1:8080/csp/healthshare/demo/fhir/r4/Observation/70264', 'resource': {'resourceType': 'Observation', 'status': 'final', 'category': [{'coding': [{'system': 'http://terminology.hl7.org/CodeSystem/observation-category', 'code': 'vital-signs', 'display': 'Vital Signs'}]}], 'code': {'coding': [{'system': 'http://loinc.org', 'code': '29463-7', 'display': 'Body Weight'}], 'text': 'Body Weight'}, 'subject': {'reference': 'Patient/70255'}, 'effectiveDateTime': '2025-03-04T08:00:00Z', 'valueQuantity': {'value': 92.09, 'unit': 'kg', 'system': 'http://unitsofmeasure.org', 'code': 'kg'}, 'device': {'reference': 'Device/66478'}, 'id': '70264', 'meta': {'lastUpdated': '2025-03-15T18:24:50Z', 'versionId': '1'}}, 'search': {'mode': 'match'}}, {'fullUrl': 'http://127.0.0.1:8080/csp/healthshare/demo/fhir/r4/Observation/70265', 'resource': {'resourceType': 'Observation', 'status': 'final', 'category': [{'coding': [{'system': 'http://terminology.hl7.org/CodeSystem/observation-category', 'code': 'vital-signs', 'display': 'Vital Signs'}]}], 'code': {'coding': [{'system': 'http://loinc.org', 'code': '29463-7', 'display': 'Body Weight'}], 'text': 'Body Weight'}, 'subject': {'reference': 'Patient/70255'}, 'effectiveDateTime': '2025-03-05T08:00:00Z', 'valueQuantity': {'value': 94.14, 'unit': 'kg', 'system': 'http://unitsofmeasure.org', 'code': 'kg'}, 'device': {'reference': 'Device/66478'}, 'id': '70265', 'meta': {'lastUpdated': '2025-03-15T18:24:50Z', 'versionId': '1'}}, 'search': {'mode': 'match'}}, {'fullUrl': 'http://127.0.0.1:8080/csp/healthshare/demo/fhir/r4/Observation/70266', 'resource': {'resourceType': 'Observation', 'status': 'final', 'category': [{'coding': [{'system': 'http://terminology.hl7.org/CodeSystem/observation-category', 'code': 'vital-signs', 'display': 'Vital Signs'}]}], 'code': {'coding': [{'system': 'http://loinc.org', 'code': '29463-7', 'display': 'Body Weight'}], 'text': 'Body Weight'}, 'subject': {'reference': 'Patient/70255'}, 'effectiveDateTime': '2025-03-06T08:00:00Z', 'valueQuantity': {'value': 92.46, 'unit': 'kg', 'system': 'http://unitsofmeasure.org', 'code': 'kg'}, 'device': {'reference': 'Device/66478'}, 'id': '70266', 'meta': {'lastUpdated': '2025-03-15T18:24:50Z', 'versionId': '1'}}, 'search': {'mode': 'match'}}, {'fullUrl': 'http://127.0.0.1:8080/csp/healthshare/demo/fhir/r4/Observation/70267', 'resource': {'resourceType': 'Observation', 'status': 'final', 'category': [{'coding': [{'system': 'http://terminology.hl7.org/CodeSystem/observation-category', 'code': 'vital-signs', 'display': 'Vital Signs'}]}], 'code': {'coding': [{'system': 'http://loinc.org', 'code': '29463-7', 'display': 'Body Weight'}], 'text': 'Body Weight'}, 'subject': {'reference': 'Patient/70255'}, 'effectiveDateTime': '2025-03-07T08:00:00Z', 'valueQuantity': {'value': 92.94, 'unit': 'kg', 'system': 'http://unitsofmeasure.org', 'code': 'kg'}, 'device': {'reference': 'Device/66478'}, 'id': '70267', 'meta': {'lastUpdated': '2025-03-15T18:24:50Z', 'versionId': '1'}}, 'search': {'mode': 'match'}}, {'fullUrl': 'http://127.0.0.1:8080/csp/healthshare/demo/fhir/r4/Observation/70268', 'resource': {'resourceType': 'Observation', 'status': 'final', 'category': [{'coding': [{'system': 'http://terminology.hl7.org/CodeSystem/observation-category', 'code': 'vital-signs', 'display': 'Vital Signs'}]}], 'code': {'coding': [{'system': 'http://loinc.org', 'code': '29463-7', 'display': 'Body Weight'}], 'text': 'Body Weight'}, 'subject': {'reference': 'Patient/70255'}, 'effectiveDateTime': '2025-03-08T08:00:00Z', 'valueQuantity': {'value': 93.23, 'unit': 'kg', 'system': 'http://unitsofmeasure.org', 'code': 'kg'}, 'device': {'reference': 'Device/66478'}, 'id': '70268', 'meta': {'lastUpdated': '2025-03-15T18:24:50Z', 'versionId': '1'}}, 'search': {'mode': 'match'}}, {'fullUrl': 'http://127.0.0.1:8080/csp/healthshare/demo/fhir/r4/Observation/70269', 'resource': {'resourceType': 'Observation', 'status': 'final', 'category': [{'coding': [{'system': 'http://terminology.hl7.org/CodeSystem/observation-category', 'code': 'vital-signs', 'display': 'Vital Signs'}]}], 'code': {'coding': [{'system': 'http://loinc.org', 'code': '29463-7', 'display': 'Body Weight'}], 'text': 'Body Weight'}, 'subject': {'reference': 'Patient/70255'}, 'effectiveDateTime': '2025-03-09T08:00:00Z', 'valueQuantity': {'value': 91.84, 'unit': 'kg', 'system': 'http://unitsofmeasure.org', 'code': 'kg'}, 'device': {'reference': 'Device/66478'}, 'id': '70269', 'meta': {'lastUpdated': '2025-03-15T18:24:50Z', 'versionId': '1'}}, 'search': {'mode': 'match'}}, {'fullUrl': 'http://127.0.0.1:8080/csp/healthshare/demo/fhir/r4/Observation/70270', 'resource': {'resourceType': 'Observation', 'status': 'final', 'category': [{'coding': [{'system': 'http://terminology.hl7.org/CodeSystem/observation-category', 'code': 'vital-signs', 'display': 'Vital Signs'}]}], 'code': {'coding': [{'system': 'http://loinc.org', 'code': '29463-7', 'display': 'Body Weight'}], 'text': 'Body Weight'}, 'subject': {'reference': 'Patient/70255'}, 'effectiveDateTime': '2025-03-10T08:00:00Z', 'valueQuantity': {'value': 93.69, 'unit': 'kg', 'system': 'http://unitsofmeasure.org', 'code': 'kg'}, 'device': {'reference': 'Device/66478'}, 'id': '70270', 'meta': {'lastUpdated': '2025-03-15T18:24:50Z', 'versionId': '1'}}, 'search': {'mode': 'match'}}, {'fullUrl': 'http://127.0.0.1:8080/csp/healthshare/demo/fhir/r4/Observation/70271', 'resource': {'resourceType': 'Observation', 'status': 'final', 'category': [{'coding': [{'system': 'http://terminology.hl7.org/CodeSystem/observation-category', 'code': 'vital-signs', 'display': 'Vital Signs'}]}], 'code': {'coding': [{'system': 'http://loinc.org', 'code': '29463-7', 'display': 'Body Weight'}], 'text': 'Body Weight'}, 'subject': {'reference': 'Patient/70255'}, 'effectiveDateTime': '2025-03-11T08:00:00Z', 'valueQuantity': {'value': 93.09, 'unit': 'kg', 'system': 'http://unitsofmeasure.org', 'code': 'kg'}, 'device': {'reference': 'Device/66478'}, 'id': '70271', 'meta': {'lastUpdated': '2025-03-15T18:24:50Z', 'versionId': '1'}}, 'search': {'mode': 'match'}}, {'fullUrl': 'http://127.0.0.1:8080/csp/healthshare/demo/fhir/r4/Observation/70272', 'resource': {'resourceType': 'Observation', 'status': 'final', 'category': [{'coding': [{'system': 'http://terminology.hl7.org/CodeSystem/observation-category', 'code': 'vital-signs', 'display': 'Vital Signs'}]}], 'code': {'coding': [{'system': 'http://loinc.org', 'code': '29463-7', 'display': 'Body Weight'}], 'text': 'Body Weight'}, 'subject': {'reference': 'Patient/70255'}, 'effectiveDateTime': '2025-03-12T08:00:00Z', 'valueQuantity': {'value': 92.52, 'unit': 'kg', 'system': 'http://unitsofmeasure.org', 'code': 'kg'}, 'device': {'reference': 'Device/66478'}, 'id': '70272', 'meta': {'lastUpdated': '2025-03-15T18:24:50Z', 'versionId': '1'}}, 'search': {'mode': 'match'}}, {'fullUrl': 'http://127.0.0.1:8080/csp/healthshare/demo/fhir/r4/Observation/70273', 'resource': {'resourceType': 'Observation', 'status': 'final', 'category': [{'coding': [{'system': 'http://terminology.hl7.org/CodeSystem/observation-category', 'code': 'vital-signs', 'display': 'Vital Signs'}]}], 'code': {'coding': [{'system': 'http://loinc.org', 'code': '29463-7', 'display': 'Body Weight'}], 'text': 'Body Weight'}, 'subject': {'reference': 'Patient/70255'}, 'effectiveDateTime': '2025-03-13T08:00:00Z', 'valueQuantity': {'value': 94.08, 'unit': 'kg', 'system': 'http://unitsofmeasure.org', 'code': 'kg'}, 'device': {'reference': 'Device/66478'}, 'id': '70273', 'meta': {'lastUpdated': '2025-03-15T18:24:50Z', 'versionId': '1'}}, 'search': {'mode': 'match'}}, {'fullUrl': 'http://127.0.0.1:8080/csp/healthshare/demo/fhir/r4/Observation/70274', 'resource': {'resourceType': 'Observation', 'status': 'final', 'category': [{'coding': [{'system': 'http://terminology.hl7.org/CodeSystem/observation-category', 'code': 'vital-signs', 'display': 'Vital Signs'}]}], 'code': {'coding': [{'system': 'http://loinc.org', 'code': '29463-7', 'display': 'Body Weight'}], 'text': 'Body Weight'}, 'subject': {'reference': 'Patient/70255'}, 'effectiveDateTime': '2025-03-14T08:00:00Z', 'valueQuantity': {'value': 93.21, 'unit': 'kg', 'system': 'http://unitsofmeasure.org', 'code': 'kg'}, 'device': {'reference': 'Device/66478'}, 'id': '70274', 'meta': {'lastUpdated': '2025-03-15T18:24:50Z', 'versionId': '1'}}, 'search': {'mode': 'match'}}]}\n"
     ]
    }
   ],
   "source": [
    "response_data = response.json()  # Assuming the response is JSON\n",
    "print(response_data) "
   ]
  },
  {
   "cell_type": "code",
   "execution_count": 93,
   "metadata": {},
   "outputs": [
    {
     "name": "stdout",
     "output_type": "stream",
     "text": [
      "using FHIRPATH\n",
      "['70261', '70262', '70263', '70264', '70265', '70266', '70267', '70268', '70269', '70270', '70271', '70272', '70273', '70274']\n",
      "using PYTHON\n",
      "['70261', '70262', '70263', '70264', '70265', '70266', '70267', '70268', '70269', '70270', '70271', '70272', '70273', '70274']\n"
     ]
    }
   ],
   "source": [
    "expression = \"entry.resource.id\"\n",
    "result = evaluate(response_data, expression, [])\n",
    "patientIds = [entry[\"resource\"][\"id\"] for entry in bundle[\"entry\"]]\n",
    "print(\"using FHIRPATH\")\n",
    "print(result)\n",
    "print(\"using PYTHON\")\n",
    "print(patientIds)\n",
    "# Step 2: Remove duplicates and sort, use pure python since this FHIRPathy library does not supprt sort\n",
    "#pre_diabetes_sorted_ids = sorted(set(patientIds))  # set() ensures unique values, sorted() sorts them\n",
    "\n",
    "# Step 3: Print results\n",
    "#print(pre_diabetes_sorted_ids)"
   ]
  },
  {
   "cell_type": "code",
   "execution_count": 90,
   "metadata": {},
   "outputs": [
    {
     "name": "stdout",
     "output_type": "stream",
     "text": [
      "{'resourceType': 'Bundle', 'id': 'dc1036c0-036b-11f0-9076-0242c0a8cc22', 'type': 'searchset', 'timestamp': '2025-03-17T20:10:23Z', 'total': 14, 'link': [{'relation': 'self', 'url': 'http://127.0.0.1:8080/csp/healthshare/demo/fhir/r4/Observation?code=http%3A%2F%2Floinc.org%7C29463-7&subject=Patient%2F70255'}], 'entry': [{'fullUrl': 'http://127.0.0.1:8080/csp/healthshare/demo/fhir/r4/Observation/70261', 'resource': {'resourceType': 'Observation', 'status': 'final', 'category': [{'coding': [{'system': 'http://terminology.hl7.org/CodeSystem/observation-category', 'code': 'vital-signs', 'display': 'Vital Signs'}]}], 'code': {'coding': [{'system': 'http://loinc.org', 'code': '29463-7', 'display': 'Body Weight'}], 'text': 'Body Weight'}, 'subject': {'reference': 'Patient/70255'}, 'effectiveDateTime': '2025-03-01T08:00:00Z', 'valueQuantity': {'value': 92.67, 'unit': 'kg', 'system': 'http://unitsofmeasure.org', 'code': 'kg'}, 'device': {'reference': 'Device/66478'}, 'id': '70261', 'meta': {'lastUpdated': '2025-03-15T18:24:50Z', 'versionId': '1'}}, 'search': {'mode': 'match'}}, {'fullUrl': 'http://127.0.0.1:8080/csp/healthshare/demo/fhir/r4/Observation/70262', 'resource': {'resourceType': 'Observation', 'status': 'final', 'category': [{'coding': [{'system': 'http://terminology.hl7.org/CodeSystem/observation-category', 'code': 'vital-signs', 'display': 'Vital Signs'}]}], 'code': {'coding': [{'system': 'http://loinc.org', 'code': '29463-7', 'display': 'Body Weight'}], 'text': 'Body Weight'}, 'subject': {'reference': 'Patient/70255'}, 'effectiveDateTime': '2025-03-02T08:00:00Z', 'valueQuantity': {'value': 93.86, 'unit': 'kg', 'system': 'http://unitsofmeasure.org', 'code': 'kg'}, 'device': {'reference': 'Device/66478'}, 'id': '70262', 'meta': {'lastUpdated': '2025-03-15T18:24:50Z', 'versionId': '1'}}, 'search': {'mode': 'match'}}, {'fullUrl': 'http://127.0.0.1:8080/csp/healthshare/demo/fhir/r4/Observation/70263', 'resource': {'resourceType': 'Observation', 'status': 'final', 'category': [{'coding': [{'system': 'http://terminology.hl7.org/CodeSystem/observation-category', 'code': 'vital-signs', 'display': 'Vital Signs'}]}], 'code': {'coding': [{'system': 'http://loinc.org', 'code': '29463-7', 'display': 'Body Weight'}], 'text': 'Body Weight'}, 'subject': {'reference': 'Patient/70255'}, 'effectiveDateTime': '2025-03-03T08:00:00Z', 'valueQuantity': {'value': 93.36, 'unit': 'kg', 'system': 'http://unitsofmeasure.org', 'code': 'kg'}, 'device': {'reference': 'Device/66478'}, 'id': '70263', 'meta': {'lastUpdated': '2025-03-15T18:24:50Z', 'versionId': '1'}}, 'search': {'mode': 'match'}}, {'fullUrl': 'http://127.0.0.1:8080/csp/healthshare/demo/fhir/r4/Observation/70264', 'resource': {'resourceType': 'Observation', 'status': 'final', 'category': [{'coding': [{'system': 'http://terminology.hl7.org/CodeSystem/observation-category', 'code': 'vital-signs', 'display': 'Vital Signs'}]}], 'code': {'coding': [{'system': 'http://loinc.org', 'code': '29463-7', 'display': 'Body Weight'}], 'text': 'Body Weight'}, 'subject': {'reference': 'Patient/70255'}, 'effectiveDateTime': '2025-03-04T08:00:00Z', 'valueQuantity': {'value': 92.09, 'unit': 'kg', 'system': 'http://unitsofmeasure.org', 'code': 'kg'}, 'device': {'reference': 'Device/66478'}, 'id': '70264', 'meta': {'lastUpdated': '2025-03-15T18:24:50Z', 'versionId': '1'}}, 'search': {'mode': 'match'}}, {'fullUrl': 'http://127.0.0.1:8080/csp/healthshare/demo/fhir/r4/Observation/70265', 'resource': {'resourceType': 'Observation', 'status': 'final', 'category': [{'coding': [{'system': 'http://terminology.hl7.org/CodeSystem/observation-category', 'code': 'vital-signs', 'display': 'Vital Signs'}]}], 'code': {'coding': [{'system': 'http://loinc.org', 'code': '29463-7', 'display': 'Body Weight'}], 'text': 'Body Weight'}, 'subject': {'reference': 'Patient/70255'}, 'effectiveDateTime': '2025-03-05T08:00:00Z', 'valueQuantity': {'value': 94.14, 'unit': 'kg', 'system': 'http://unitsofmeasure.org', 'code': 'kg'}, 'device': {'reference': 'Device/66478'}, 'id': '70265', 'meta': {'lastUpdated': '2025-03-15T18:24:50Z', 'versionId': '1'}}, 'search': {'mode': 'match'}}, {'fullUrl': 'http://127.0.0.1:8080/csp/healthshare/demo/fhir/r4/Observation/70266', 'resource': {'resourceType': 'Observation', 'status': 'final', 'category': [{'coding': [{'system': 'http://terminology.hl7.org/CodeSystem/observation-category', 'code': 'vital-signs', 'display': 'Vital Signs'}]}], 'code': {'coding': [{'system': 'http://loinc.org', 'code': '29463-7', 'display': 'Body Weight'}], 'text': 'Body Weight'}, 'subject': {'reference': 'Patient/70255'}, 'effectiveDateTime': '2025-03-06T08:00:00Z', 'valueQuantity': {'value': 92.46, 'unit': 'kg', 'system': 'http://unitsofmeasure.org', 'code': 'kg'}, 'device': {'reference': 'Device/66478'}, 'id': '70266', 'meta': {'lastUpdated': '2025-03-15T18:24:50Z', 'versionId': '1'}}, 'search': {'mode': 'match'}}, {'fullUrl': 'http://127.0.0.1:8080/csp/healthshare/demo/fhir/r4/Observation/70267', 'resource': {'resourceType': 'Observation', 'status': 'final', 'category': [{'coding': [{'system': 'http://terminology.hl7.org/CodeSystem/observation-category', 'code': 'vital-signs', 'display': 'Vital Signs'}]}], 'code': {'coding': [{'system': 'http://loinc.org', 'code': '29463-7', 'display': 'Body Weight'}], 'text': 'Body Weight'}, 'subject': {'reference': 'Patient/70255'}, 'effectiveDateTime': '2025-03-07T08:00:00Z', 'valueQuantity': {'value': 92.94, 'unit': 'kg', 'system': 'http://unitsofmeasure.org', 'code': 'kg'}, 'device': {'reference': 'Device/66478'}, 'id': '70267', 'meta': {'lastUpdated': '2025-03-15T18:24:50Z', 'versionId': '1'}}, 'search': {'mode': 'match'}}, {'fullUrl': 'http://127.0.0.1:8080/csp/healthshare/demo/fhir/r4/Observation/70268', 'resource': {'resourceType': 'Observation', 'status': 'final', 'category': [{'coding': [{'system': 'http://terminology.hl7.org/CodeSystem/observation-category', 'code': 'vital-signs', 'display': 'Vital Signs'}]}], 'code': {'coding': [{'system': 'http://loinc.org', 'code': '29463-7', 'display': 'Body Weight'}], 'text': 'Body Weight'}, 'subject': {'reference': 'Patient/70255'}, 'effectiveDateTime': '2025-03-08T08:00:00Z', 'valueQuantity': {'value': 93.23, 'unit': 'kg', 'system': 'http://unitsofmeasure.org', 'code': 'kg'}, 'device': {'reference': 'Device/66478'}, 'id': '70268', 'meta': {'lastUpdated': '2025-03-15T18:24:50Z', 'versionId': '1'}}, 'search': {'mode': 'match'}}, {'fullUrl': 'http://127.0.0.1:8080/csp/healthshare/demo/fhir/r4/Observation/70269', 'resource': {'resourceType': 'Observation', 'status': 'final', 'category': [{'coding': [{'system': 'http://terminology.hl7.org/CodeSystem/observation-category', 'code': 'vital-signs', 'display': 'Vital Signs'}]}], 'code': {'coding': [{'system': 'http://loinc.org', 'code': '29463-7', 'display': 'Body Weight'}], 'text': 'Body Weight'}, 'subject': {'reference': 'Patient/70255'}, 'effectiveDateTime': '2025-03-09T08:00:00Z', 'valueQuantity': {'value': 91.84, 'unit': 'kg', 'system': 'http://unitsofmeasure.org', 'code': 'kg'}, 'device': {'reference': 'Device/66478'}, 'id': '70269', 'meta': {'lastUpdated': '2025-03-15T18:24:50Z', 'versionId': '1'}}, 'search': {'mode': 'match'}}, {'fullUrl': 'http://127.0.0.1:8080/csp/healthshare/demo/fhir/r4/Observation/70270', 'resource': {'resourceType': 'Observation', 'status': 'final', 'category': [{'coding': [{'system': 'http://terminology.hl7.org/CodeSystem/observation-category', 'code': 'vital-signs', 'display': 'Vital Signs'}]}], 'code': {'coding': [{'system': 'http://loinc.org', 'code': '29463-7', 'display': 'Body Weight'}], 'text': 'Body Weight'}, 'subject': {'reference': 'Patient/70255'}, 'effectiveDateTime': '2025-03-10T08:00:00Z', 'valueQuantity': {'value': 93.69, 'unit': 'kg', 'system': 'http://unitsofmeasure.org', 'code': 'kg'}, 'device': {'reference': 'Device/66478'}, 'id': '70270', 'meta': {'lastUpdated': '2025-03-15T18:24:50Z', 'versionId': '1'}}, 'search': {'mode': 'match'}}, {'fullUrl': 'http://127.0.0.1:8080/csp/healthshare/demo/fhir/r4/Observation/70271', 'resource': {'resourceType': 'Observation', 'status': 'final', 'category': [{'coding': [{'system': 'http://terminology.hl7.org/CodeSystem/observation-category', 'code': 'vital-signs', 'display': 'Vital Signs'}]}], 'code': {'coding': [{'system': 'http://loinc.org', 'code': '29463-7', 'display': 'Body Weight'}], 'text': 'Body Weight'}, 'subject': {'reference': 'Patient/70255'}, 'effectiveDateTime': '2025-03-11T08:00:00Z', 'valueQuantity': {'value': 93.09, 'unit': 'kg', 'system': 'http://unitsofmeasure.org', 'code': 'kg'}, 'device': {'reference': 'Device/66478'}, 'id': '70271', 'meta': {'lastUpdated': '2025-03-15T18:24:50Z', 'versionId': '1'}}, 'search': {'mode': 'match'}}, {'fullUrl': 'http://127.0.0.1:8080/csp/healthshare/demo/fhir/r4/Observation/70272', 'resource': {'resourceType': 'Observation', 'status': 'final', 'category': [{'coding': [{'system': 'http://terminology.hl7.org/CodeSystem/observation-category', 'code': 'vital-signs', 'display': 'Vital Signs'}]}], 'code': {'coding': [{'system': 'http://loinc.org', 'code': '29463-7', 'display': 'Body Weight'}], 'text': 'Body Weight'}, 'subject': {'reference': 'Patient/70255'}, 'effectiveDateTime': '2025-03-12T08:00:00Z', 'valueQuantity': {'value': 92.52, 'unit': 'kg', 'system': 'http://unitsofmeasure.org', 'code': 'kg'}, 'device': {'reference': 'Device/66478'}, 'id': '70272', 'meta': {'lastUpdated': '2025-03-15T18:24:50Z', 'versionId': '1'}}, 'search': {'mode': 'match'}}, {'fullUrl': 'http://127.0.0.1:8080/csp/healthshare/demo/fhir/r4/Observation/70273', 'resource': {'resourceType': 'Observation', 'status': 'final', 'category': [{'coding': [{'system': 'http://terminology.hl7.org/CodeSystem/observation-category', 'code': 'vital-signs', 'display': 'Vital Signs'}]}], 'code': {'coding': [{'system': 'http://loinc.org', 'code': '29463-7', 'display': 'Body Weight'}], 'text': 'Body Weight'}, 'subject': {'reference': 'Patient/70255'}, 'effectiveDateTime': '2025-03-13T08:00:00Z', 'valueQuantity': {'value': 94.08, 'unit': 'kg', 'system': 'http://unitsofmeasure.org', 'code': 'kg'}, 'device': {'reference': 'Device/66478'}, 'id': '70273', 'meta': {'lastUpdated': '2025-03-15T18:24:50Z', 'versionId': '1'}}, 'search': {'mode': 'match'}}, {'fullUrl': 'http://127.0.0.1:8080/csp/healthshare/demo/fhir/r4/Observation/70274', 'resource': {'resourceType': 'Observation', 'status': 'final', 'category': [{'coding': [{'system': 'http://terminology.hl7.org/CodeSystem/observation-category', 'code': 'vital-signs', 'display': 'Vital Signs'}]}], 'code': {'coding': [{'system': 'http://loinc.org', 'code': '29463-7', 'display': 'Body Weight'}], 'text': 'Body Weight'}, 'subject': {'reference': 'Patient/70255'}, 'effectiveDateTime': '2025-03-14T08:00:00Z', 'valueQuantity': {'value': 93.21, 'unit': 'kg', 'system': 'http://unitsofmeasure.org', 'code': 'kg'}, 'device': {'reference': 'Device/66478'}, 'id': '70274', 'meta': {'lastUpdated': '2025-03-15T18:24:50Z', 'versionId': '1'}}, 'search': {'mode': 'match'}}]}\n"
     ]
    }
   ],
   "source": [
    "response_data = response.json()  # Assuming the response is JSON\n",
    "print(response_data) "
   ]
  },
  {
   "cell_type": "markdown",
   "metadata": {},
   "source": [
    "Get all the ids of patients with high hemoglobin A1cs  (i.e. 6.0 or higher)"
   ]
  },
  {
   "cell_type": "code",
   "execution_count": null,
   "metadata": {},
   "outputs": [],
   "source": [
    "url = 'http://127.0.0.1:8080/csp/healthshare/demo/fhir/r4/Patient?_has:Observation:subject:code=http://loinc.org|4548-4&_has:Observation:subject:value-quantity=ge6.0'"
   ]
  },
  {
   "cell_type": "code",
   "execution_count": 80,
   "metadata": {},
   "outputs": [
    {
     "name": "stdout",
     "output_type": "stream",
     "text": [
      "Bundle retrieved successfully!\n"
     ]
    }
   ],
   "source": [
    "response = requests.get(url, headers=headers, auth=HTTPBasicAuth('_System', 'ISCDEMO'))\n",
    "# Check if the request was successful\n",
    "if response.status_code == 200:\n",
    "    bundle = response.json()\n",
    "    print(\"Bundle retrieved successfully!\")\n",
    "else:\n",
    "    print(\"Failed to retrieve bundle\")"
   ]
  },
  {
   "cell_type": "code",
   "execution_count": 22,
   "metadata": {},
   "outputs": [
    {
     "name": "stdout",
     "output_type": "stream",
     "text": [
      "['12251', '1409', '14310', '15421', '2049', '2175', '22390', '23507', '24744', '26660', '27052', '29917', '37884', '39245', '39312', '46101', '49946', '50345', '5331', '54054', '5691', '56963', '57128', '57374', '57547', '57827', '59239', '61584', '7', '9250']\n"
     ]
    }
   ],
   "source": [
    "expression = \"bundle.entry.resource.ofType(Patient).id\"\n",
    "result = evaluate(bundle, expression, [])\n",
    "patientIds = [entry[\"resource\"][\"id\"] for entry in bundle[\"entry\"]]\n",
    "# Step 2: Remove duplicates and sort, use pure python since this FHIRPathy library does not supprt sort\n",
    "highHgB_sorted_ids = sorted(set(patientIds))  # set() ensures unique values, sorted() sorts them\n",
    "\n",
    "# Step 3: Print results\n",
    "print(highHgB_sorted_ids)"
   ]
  },
  {
   "cell_type": "code",
   "execution_count": 23,
   "metadata": {},
   "outputs": [],
   "source": [
    "def compare_lists(list1, list2):\n",
    "    \"\"\"\n",
    "    Compare two lists and return elements that are unique to each list.\n",
    "    \"\"\"\n",
    "    set1 = set(list1)\n",
    "    set2 = set(list2)\n",
    "    \n",
    "    only_in_list1 = sorted(set1 - set2)\n",
    "    only_in_list2 = sorted(set2 - set1)\n",
    "    \n",
    "    return only_in_list1, only_in_list2"
   ]
  },
  {
   "cell_type": "code",
   "execution_count": 25,
   "metadata": {},
   "outputs": [],
   "source": [
    "only_in_pre_diabetes, only_in_highHgB = compare_lists(pre_diabetes_sorted_ids, highHgB_sorted_ids)"
   ]
  },
  {
   "cell_type": "code",
   "execution_count": 26,
   "metadata": {},
   "outputs": [
    {
     "name": "stdout",
     "output_type": "stream",
     "text": [
      "[]\n"
     ]
    }
   ],
   "source": [
    "print(only_in_pre_diabetes)"
   ]
  },
  {
   "cell_type": "code",
   "execution_count": 27,
   "metadata": {},
   "outputs": [
    {
     "name": "stdout",
     "output_type": "stream",
     "text": [
      "[]\n"
     ]
    }
   ],
   "source": [
    "print(only_in_highHgB)"
   ]
  },
  {
   "cell_type": "markdown",
   "metadata": {},
   "source": [
    "Get all the Weights of John Herrington"
   ]
  },
  {
   "cell_type": "code",
   "execution_count": 32,
   "metadata": {},
   "outputs": [],
   "source": [
    "url=\"http://127.0.0.1:8080/csp/healthshare/demo/fhir/r4/Observation?code=http://loinc.org|29463-7&subject=Patient/70255\""
   ]
  },
  {
   "cell_type": "code",
   "execution_count": 33,
   "metadata": {},
   "outputs": [
    {
     "name": "stdout",
     "output_type": "stream",
     "text": [
      "Bundle retrieved successfully!\n"
     ]
    }
   ],
   "source": [
    "response = requests.get(url, headers=headers, auth=HTTPBasicAuth('_System', 'ISCDEMO'))\n",
    "# Check if the request was successful\n",
    "if response.status_code == 200:\n",
    "    bundle = response.json()\n",
    "    print(\"Bundle retrieved successfully!\")\n",
    "else:\n",
    "    print(\"Failed to retrieve bundle\")"
   ]
  },
  {
   "cell_type": "code",
   "execution_count": 47,
   "metadata": {},
   "outputs": [
    {
     "name": "stdout",
     "output_type": "stream",
     "text": [
      "['92.67 | 2025-03-01T08:00:00Z', '93.86 | 2025-03-02T08:00:00Z', '93.36 | 2025-03-03T08:00:00Z', '92.09 | 2025-03-04T08:00:00Z', '94.14 | 2025-03-05T08:00:00Z', '92.46 | 2025-03-06T08:00:00Z', '92.94 | 2025-03-07T08:00:00Z', '93.23 | 2025-03-08T08:00:00Z', '91.84 | 2025-03-09T08:00:00Z', '93.69 | 2025-03-10T08:00:00Z', '93.09 | 2025-03-11T08:00:00Z', '92.52 | 2025-03-12T08:00:00Z', '94.08 | 2025-03-13T08:00:00Z', '93.21 | 2025-03-14T08:00:00Z']\n"
     ]
    }
   ],
   "source": [
    "expression = \"Bundle.entry.resource.where(resourceType='Observation' and code.coding.code='29463-7').select(valueQuantity.value.toString() + ' | ' + effectiveDateTime)\"\n",
    "result = evaluate(bundle, expression, [])\n",
    "print(result)"
   ]
  },
  {
   "cell_type": "code",
   "execution_count": 48,
   "metadata": {},
   "outputs": [
    {
     "name": "stdout",
     "output_type": "stream",
     "text": [
      "[(92.67, '2025-03-01T08:00:00Z'), (93.86, '2025-03-02T08:00:00Z'), (93.36, '2025-03-03T08:00:00Z'), (92.09, '2025-03-04T08:00:00Z'), (94.14, '2025-03-05T08:00:00Z'), (92.46, '2025-03-06T08:00:00Z'), (92.94, '2025-03-07T08:00:00Z'), (93.23, '2025-03-08T08:00:00Z'), (91.84, '2025-03-09T08:00:00Z'), (93.69, '2025-03-10T08:00:00Z'), (93.09, '2025-03-11T08:00:00Z'), (92.52, '2025-03-12T08:00:00Z'), (94.08, '2025-03-13T08:00:00Z'), (93.21, '2025-03-14T08:00:00Z')]\n"
     ]
    }
   ],
   "source": [
    "# Convert delimited string into tuples\n",
    "parsed_data = [(float(weight), date) for weight, date in (item.split(\" | \") for item in result)]\n",
    "\n",
    "# Print the structured result\n",
    "print(parsed_data)"
   ]
  },
  {
   "cell_type": "code",
   "execution_count": 49,
   "metadata": {},
   "outputs": [
    {
     "name": "stdout",
     "output_type": "stream",
     "text": [
      "[(92.67, datetime.datetime(2025, 3, 1, 8, 0)), (93.86, datetime.datetime(2025, 3, 2, 8, 0)), (93.36, datetime.datetime(2025, 3, 3, 8, 0)), (92.09, datetime.datetime(2025, 3, 4, 8, 0)), (94.14, datetime.datetime(2025, 3, 5, 8, 0)), (92.46, datetime.datetime(2025, 3, 6, 8, 0)), (92.94, datetime.datetime(2025, 3, 7, 8, 0)), (93.23, datetime.datetime(2025, 3, 8, 8, 0)), (91.84, datetime.datetime(2025, 3, 9, 8, 0)), (93.69, datetime.datetime(2025, 3, 10, 8, 0)), (93.09, datetime.datetime(2025, 3, 11, 8, 0)), (92.52, datetime.datetime(2025, 3, 12, 8, 0)), (94.08, datetime.datetime(2025, 3, 13, 8, 0)), (93.21, datetime.datetime(2025, 3, 14, 8, 0))]\n"
     ]
    }
   ],
   "source": [
    "from datetime import datetime\n",
    "\n",
    "# Convert date string to datetime object\n",
    "parsed_data = [(weight, datetime.strptime(date, \"%Y-%m-%dT%H:%M:%SZ\")) for weight, date in parsed_data]\n",
    "\n",
    "# Print the structured result\n",
    "print(parsed_data)"
   ]
  },
  {
   "cell_type": "code",
   "execution_count": 50,
   "metadata": {},
   "outputs": [
    {
     "data": {
      "image/png": "[encoded data removed]",
      "text/plain": [
       "<Figure size 1000x500 with 1 Axes>"
      ]
     },
     "metadata": {},
     "output_type": "display_data"
    }
   ],
   "source": [
    "import matplotlib.pyplot as plt\n",
    "\n",
    "# Extract weights and dates\n",
    "weights, dates = zip(*parsed_data)\n",
    "\n",
    "# Create the plot\n",
    "plt.figure(figsize=(10, 5))\n",
    "plt.plot(dates, weights, marker=\"o\", linestyle=\"-\", color=\"b\", label=\"Body Weight (kg)\")\n",
    "\n",
    "# Format the plot\n",
    "plt.xlabel(\"Date\")\n",
    "plt.ylabel(\"Weight (kg)\")\n",
    "plt.title(\"Daily Body Weight Measurements\")\n",
    "plt.xticks(rotation=45)\n",
    "plt.legend()\n",
    "plt.grid(True)\n",
    "\n",
    "# Show the plot\n",
    "plt.show()\n"
   ]
  },
  {
   "cell_type": "markdown",
   "metadata": {},
   "source": [
    "Create alert function, if weight on one day is greater than 1.5 kg from the previos create and alert"
   ]
  },
  {
   "cell_type": "code",
   "execution_count": 51,
   "metadata": {},
   "outputs": [],
   "source": [
    "def check_weight_change(x, y):\n",
    "    \"\"\"\n",
    "    Checks if weight increased by 1.5 kg or more between two consecutive days.\n",
    "    \n",
    "    Parameters:\n",
    "        x (float): Weight on day 1.\n",
    "        y (float): Weight on day 2.\n",
    "    \n",
    "    Returns:\n",
    "        str: \"Alert, major weight change\" if the increase is ≥ 1.5 kg, else an empty string.\n",
    "    \"\"\"\n",
    "    if y - x >= 1.5:\n",
    "        return \"Alert, major weight change\"\n",
    "    return \"\"\n"
   ]
  },
  {
   "cell_type": "markdown",
   "metadata": {},
   "source": [
    "Now, we'll loop through the list and compare each day to the previous day"
   ]
  },
  {
   "cell_type": "code",
   "execution_count": 52,
   "metadata": {},
   "outputs": [],
   "source": [
    "def check_weight_series(weights):\n",
    "    \"\"\"\n",
    "    Applies `check_weight_change` function to an entire series of weights.\n",
    "    \n",
    "    Parameters:\n",
    "        weights (list of float): List of daily weights.\n",
    "    \n",
    "    Returns:\n",
    "        list of str: Alerts corresponding to each day comparison.\n",
    "    \"\"\"\n",
    "    alerts = []\n",
    "    for i in range(1, len(weights)):  # Start from second day\n",
    "        alert = check_weight_change(weights[i - 1], weights[i])\n",
    "        alerts.append(alert)\n",
    "    return alerts\n"
   ]
  },
  {
   "cell_type": "code",
   "execution_count": 54,
   "metadata": {},
   "outputs": [
    {
     "name": "stdout",
     "output_type": "stream",
     "text": [
      "Day 5: Alert, major weight change\n",
      "Day 10: Alert, major weight change\n",
      "Day 13: Alert, major weight change\n"
     ]
    }
   ],
   "source": [
    "# Extract weights and dates\n",
    "weights, dates = zip(*parsed_data)\n",
    "weight_series = weights\n",
    "# Run the function\n",
    "alerts = check_weight_series(weight_series)\n",
    "\n",
    "# Print results\n",
    "for i, alert in enumerate(alerts, start=2):  # Start from Day 2\n",
    "    if alert:\n",
    "        print(f\"Day {i}: {alert}\")"
   ]
  },
  {
   "cell_type": "code",
   "execution_count": 191,
   "metadata": {},
   "outputs": [],
   "source": [
    "url=\"http://127.0.0.1:8080/csp/healthshare/demo/fhir/r4/Patient?_has:Procedure:subject:code=http://snomed.info/sct|387713003&_revinclude=Observation:subject\""
   ]
  },
  {
   "cell_type": "code",
   "execution_count": 203,
   "metadata": {},
   "outputs": [
    {
     "name": "stdout",
     "output_type": "stream",
     "text": [
      "Bundle retrieved successfully!\n"
     ]
    }
   ],
   "source": [
    "response = requests.get(url, headers=headers, auth=HTTPBasicAuth('_System', 'ISCDEMO'))\n",
    "# Check if the request was successful\n",
    "if response.status_code == 200:\n",
    "    bundle = response.json()\n",
    "    print(\"Bundle retrieved successfully!\")\n",
    "else:\n",
    "    print(\"Failed to retrieve bundle\")"
   ]
  },
  {
   "cell_type": "code",
   "execution_count": 204,
   "metadata": {},
   "outputs": [
    {
     "name": "stdout",
     "output_type": "stream",
     "text": [
      "{'resourceType': 'Bundle', 'id': '4b06f0ad-041f-11f0-9076-0242c0a8cc22', 'type': 'searchset', 'timestamp': '2025-03-18T17:34:49Z', 'total': 5, 'link': [{'relation': 'self', 'url': 'http://127.0.0.1:8080/csp/healthshare/demo/fhir/r4/Patient?_has:Procedure:subject:code=http%3A%2F%2Fsnomed.info%2Fsct%7C387713003&_revinclude=Observation%3Asubject'}], 'entry': [{'fullUrl': 'http://127.0.0.1:8080/csp/healthshare/demo/fhir/r4/Patient/70277', 'resource': {'resourceType': 'Patient', 'name': [{'family': 'Smith', 'given': ['John']}], 'gender': 'male', 'birthDate': '1980-05-15', 'id': '70277', 'meta': {'lastUpdated': '2025-03-16T13:37:01Z', 'versionId': '1'}}, 'search': {'mode': 'match'}}, {'fullUrl': 'http://127.0.0.1:8080/csp/healthshare/demo/fhir/r4/Patient/70279', 'resource': {'resourceType': 'Patient', 'name': [{'family': 'Johnson', 'given': ['Emma']}], 'gender': 'female', 'birthDate': '1975-09-23', 'id': '70279', 'meta': {'lastUpdated': '2025-03-16T13:37:01Z', 'versionId': '1'}}, 'search': {'mode': 'match'}}, {'fullUrl': 'http://127.0.0.1:8080/csp/healthshare/demo/fhir/r4/Patient/70281', 'resource': {'resourceType': 'Patient', 'name': [{'family': 'Williams', 'given': ['Noah']}], 'gender': 'male', 'birthDate': '1992-07-11', 'id': '70281', 'meta': {'lastUpdated': '2025-03-16T13:37:01Z', 'versionId': '1'}}, 'search': {'mode': 'match'}}, {'fullUrl': 'http://127.0.0.1:8080/csp/healthshare/demo/fhir/r4/Patient/70283', 'resource': {'resourceType': 'Patient', 'name': [{'family': 'Brown', 'given': ['Olivia']}], 'gender': 'female', 'birthDate': '1985-06-08', 'id': '70283', 'meta': {'lastUpdated': '2025-03-16T13:37:01Z', 'versionId': '1'}}, 'search': {'mode': 'match'}}, {'fullUrl': 'http://127.0.0.1:8080/csp/healthshare/demo/fhir/r4/Patient/70285', 'resource': {'resourceType': 'Patient', 'name': [{'family': 'Davis', 'given': ['William']}], 'gender': 'male', 'birthDate': '1978-12-02', 'id': '70285', 'meta': {'lastUpdated': '2025-03-16T13:37:01Z', 'versionId': '1'}}, 'search': {'mode': 'match'}}, {'fullUrl': 'http://127.0.0.1:8080/csp/healthshare/demo/fhir/r4/Observation/70299', 'resource': {'resourceType': 'Observation', 'status': 'final', 'category': [{'coding': [{'system': 'http://terminology.hl7.org/CodeSystem/observation-category', 'code': 'vital-signs'}]}], 'code': {'coding': [{'system': 'http://loinc.org', 'code': '8310-5', 'display': 'Body temperature'}]}, 'subject': {'reference': 'Patient/70277'}, 'valueQuantity': {'value': 39.5, 'unit': '°C', 'system': 'http://unitsofmeasure.org', 'code': 'Cel'}, 'effectiveDateTime': '2025-03-16T10:00:00Z', 'id': '70299', 'meta': {'lastUpdated': '2025-03-18T16:38:43Z', 'versionId': '1'}}, 'search': {'mode': 'include'}}, {'fullUrl': 'http://127.0.0.1:8080/csp/healthshare/demo/fhir/r4/Observation/70300', 'resource': {'resourceType': 'Observation', 'status': 'final', 'category': [{'coding': [{'system': 'http://terminology.hl7.org/CodeSystem/observation-category', 'code': 'laboratory'}]}], 'code': {'coding': [{'system': 'http://loinc.org', 'code': '6690-2', 'display': 'White blood cell count'}]}, 'subject': {'reference': 'Patient/70277'}, 'valueQuantity': {'value': 15.0, 'unit': '10^9/L', 'system': 'http://unitsofmeasure.org', 'code': '10*9/L'}, 'effectiveDateTime': '2025-03-16T10:00:00Z', 'id': '70300', 'meta': {'lastUpdated': '2025-03-18T16:38:43Z', 'versionId': '1'}}, 'search': {'mode': 'include'}}, {'fullUrl': 'http://127.0.0.1:8080/csp/healthshare/demo/fhir/r4/Observation/70301', 'resource': {'resourceType': 'Observation', 'status': 'final', 'category': [{'coding': [{'system': 'http://terminology.hl7.org/CodeSystem/observation-category', 'code': 'vital-signs'}]}], 'code': {'coding': [{'system': 'http://loinc.org', 'code': '8310-5', 'display': 'Body temperature'}]}, 'subject': {'reference': 'Patient/70283'}, 'effectiveDateTime': '2025-03-16T10:45:00Z', 'valueQuantity': {'value': 39.2, 'unit': '°C', 'system': 'http://unitsofmeasure.org', 'code': 'Cel'}, 'id': '70301', 'meta': {'lastUpdated': '2025-03-18T16:38:43Z', 'versionId': '1'}}, 'search': {'mode': 'include'}}, {'fullUrl': 'http://127.0.0.1:8080/csp/healthshare/demo/fhir/r4/Observation/70302', 'resource': {'resourceType': 'Observation', 'status': 'final', 'category': [{'coding': [{'system': 'http://terminology.hl7.org/CodeSystem/observation-category', 'code': 'laboratory'}]}], 'code': {'coding': [{'system': 'http://loinc.org', 'code': '6690-2', 'display': 'White blood cell count'}]}, 'subject': {'reference': 'Patient/70283'}, 'effectiveDateTime': '2025-03-16T10:45:00Z', 'valueQuantity': {'value': 14.8, 'unit': '10^9/L', 'system': 'http://unitsofmeasure.org', 'code': '10*9/L'}, 'id': '70302', 'meta': {'lastUpdated': '2025-03-18T16:38:43Z', 'versionId': '1'}}, 'search': {'mode': 'include'}}, {'fullUrl': 'http://127.0.0.1:8080/csp/healthshare/demo/fhir/r4/Observation/70303', 'resource': {'resourceType': 'Observation', 'status': 'final', 'category': [{'coding': [{'system': 'http://terminology.hl7.org/CodeSystem/observation-category', 'code': 'vital-signs'}]}], 'code': {'coding': [{'system': 'http://loinc.org', 'code': '8310-5', 'display': 'Body temperature'}]}, 'subject': {'reference': 'Patient/70285'}, 'effectiveDateTime': '2025-03-16T11:00:00Z', 'valueQuantity': {'value': 37.1, 'unit': '°C', 'system': 'http://unitsofmeasure.org', 'code': 'Cel'}, 'id': '70303', 'meta': {'lastUpdated': '2025-03-18T16:38:43Z', 'versionId': '1'}}, 'search': {'mode': 'include'}}, {'fullUrl': 'http://127.0.0.1:8080/csp/healthshare/demo/fhir/r4/Observation/70304', 'resource': {'resourceType': 'Observation', 'status': 'final', 'category': [{'coding': [{'system': 'http://terminology.hl7.org/CodeSystem/observation-category', 'code': 'laboratory'}]}], 'code': {'coding': [{'system': 'http://loinc.org', 'code': '6690-2', 'display': 'White blood cell count'}]}, 'subject': {'reference': 'Patient/70285'}, 'effectiveDateTime': '2025-03-16T11:00:00Z', 'valueQuantity': {'value': 7.2, 'unit': '10^9/L', 'system': 'http://unitsofmeasure.org', 'code': '10*9/L'}, 'id': '70304', 'meta': {'lastUpdated': '2025-03-18T16:38:43Z', 'versionId': '1'}}, 'search': {'mode': 'include'}}]}\n"
     ]
    }
   ],
   "source": [
    "print(bundle)"
   ]
  },
  {
   "cell_type": "code",
   "execution_count": 206,
   "metadata": {},
   "outputs": [
    {
     "name": "stdout",
     "output_type": "stream",
     "text": [
      "['70277 | 8310-5 | 39.5', '70277 | 6690-2 | 15.0', '70283 | 8310-5 | 39.2', '70283 | 6690-2 | 14.8', '70285 | 8310-5 | 37.1', '70285 | 6690-2 | 7.2']\n"
     ]
    }
   ],
   "source": [
    "expression = \"entry.resource.ofType(Observation).where(code.coding.code = '8310-5' or code.coding.code = '6690-2').select(subject.reference.replace('Patient/', '') + ' | ' + code.coding.code + ' | ' + valueQuantity.value.toString() \"\n",
    "result = evaluate(bundle, expression, [])\n",
    "print(result)"
   ]
  },
  {
   "cell_type": "code",
   "execution_count": 195,
   "metadata": {},
   "outputs": [
    {
     "name": "stdout",
     "output_type": "stream",
     "text": [
      "['70277 | 8310-5 | 39.5 | 2025-03-16T10:00:00Z', '70277 | 6690-2 | 15.0 | 2025-03-16T10:00:00Z', '70283 | 8310-5 | 39.2 | 2025-03-16T10:45:00Z', '70283 | 6690-2 | 14.8 | 2025-03-16T10:45:00Z', '70285 | 8310-5 | 37.1 | 2025-03-16T11:00:00Z', '70285 | 6690-2 | 7.2 | 2025-03-16T11:00:00Z']\n"
     ]
    }
   ],
   "source": [
    "expression = \"entry.resource.ofType(Observation).where(code.coding.code = '8310-5' or code.coding.code = '6690-2').select(subject.reference.replace('Patient/', '') + ' | ' + code.coding.code + ' | ' + valueQuantity.value.toString() + ' | ' + effectiveDateTime)\"\n",
    "result = evaluate(bundle, expression, [])\n",
    "print(result)"
   ]
  },
  {
   "cell_type": "code",
   "execution_count": 200,
   "metadata": {},
   "outputs": [
    {
     "name": "stdout",
     "output_type": "stream",
     "text": [
      "['70277 | 8310-5 | 39.5', '70277 | 6690-2 | 15.0', '70283 | 8310-5 | 39.2', '70283 | 6690-2 | 14.8', '70285 | 8310-5 | 37.1', '70285 | 6690-2 | 7.2']\n"
     ]
    }
   ],
   "source": [
    "modifiedexpression = \"entry.resource.ofType(Observation).select(subject.reference.replace('Patient/', '') + ' | ' + code.coding.code + ' | ' + valueQuantity.value.toString() \"\n",
    "result = evaluate(bundle, modifiedexpression, [])\n",
    "print(result)"
   ]
  },
  {
   "cell_type": "code",
   "execution_count": 201,
   "metadata": {},
   "outputs": [],
   "source": [
    "idexpression = \"entry.resource.ofType(Observation).select(subject.reference.replace('Patient/', ''))\""
   ]
  },
  {
   "cell_type": "code",
   "execution_count": 198,
   "metadata": {},
   "outputs": [
    {
     "name": "stdout",
     "output_type": "stream",
     "text": [
      "['70277', '70277', '70283', '70283', '70285', '70285']\n"
     ]
    }
   ],
   "source": [
    "result = evaluate(bundle, idexpression, [])\n",
    "print(result)"
   ]
  },
  {
   "cell_type": "code",
   "execution_count": 199,
   "metadata": {},
   "outputs": [
    {
     "name": "stdout",
     "output_type": "stream",
     "text": [
      "['70277', '70279', '70281', '70283', '70285']\n"
     ]
    }
   ],
   "source": [
    "ptexpression = \"entry.resource.ofType(Patient).id\"\n",
    "result = evaluate(bundle, ptexpression, [])\n",
    "print(result)"
   ]
  },
  {
   "cell_type": "code",
   "execution_count": 170,
   "metadata": {},
   "outputs": [],
   "source": [
    "resourcesexp = \"entry.resource.resourceType\""
   ]
  },
  {
   "cell_type": "code",
   "execution_count": 171,
   "metadata": {},
   "outputs": [
    {
     "name": "stdout",
     "output_type": "stream",
     "text": [
      "['Patient', 'Patient', 'Patient', 'Patient', 'Patient', 'Observation', 'Observation', 'Observation', 'Observation', 'Observation', 'Observation', 'Observation', 'Observation']\n"
     ]
    }
   ],
   "source": [
    "result = evaluate(bundle, resourcesexp, [])\n",
    "print(result)"
   ]
  },
  {
   "cell_type": "code",
   "execution_count": 175,
   "metadata": {},
   "outputs": [
    {
     "name": "stdout",
     "output_type": "stream",
     "text": [
      "['70277', '70279', '70281', '70283', '70285']\n"
     ]
    }
   ],
   "source": [
    "ptexpression = \"entry.resource.ofType(Patient).id\"\n",
    "result = evaluate(bundle, ptexpression, [])\n",
    "print(result)"
   ]
  },
  {
   "cell_type": "code",
   "execution_count": 127,
   "metadata": {},
   "outputs": [],
   "source": [
    "obsexpression = \"entry.resource.ofType(Observation).select(code.coding.code + ' | ' + subject.reference)\""
   ]
  },
  {
   "cell_type": "code",
   "execution_count": 129,
   "metadata": {},
   "outputs": [
    {
     "name": "stdout",
     "output_type": "stream",
     "text": [
      "['8310-5 | Patient/70277', '6690-2 | Patient/70277', '8310-5 | Patient/70279', '6690-2 | Patient/70279', '8310-5 | Patient/70283', '6690-2 | Patient/70283', '8310-5 | Patient/70285', '6690-2 | Patient/70285']\n"
     ]
    }
   ],
   "source": [
    "result = evaluate(bundle, obsexpression, [])\n",
    "print(result)"
   ]
  }
 ],
 "metadata": {
  "kernelspec": {
   "display_name": "base",
   "language": "python",
   "name": "python3"
  },
  "language_info": {
   "codemirror_mode": {
    "name": "ipython",
    "version": 3
   },
   "file_extension": ".py",
   "mimetype": "text/x-python",
   "name": "python",
   "nbconvert_exporter": "python",
   "pygments_lexer": "ipython3",
   "version": "3.10.9"
  }
 },
 "nbformat": 4,
 "nbformat_minor": 2
}
